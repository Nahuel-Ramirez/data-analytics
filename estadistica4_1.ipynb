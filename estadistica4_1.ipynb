{
  "nbformat": 4,
  "nbformat_minor": 0,
  "metadata": {
    "colab": {
      "provenance": [],
      "authorship_tag": "ABX9TyP2kL16v6DPUDv/QI6HAd33",
      "include_colab_link": true
    },
    "kernelspec": {
      "name": "python3",
      "display_name": "Python 3"
    },
    "language_info": {
      "name": "python"
    }
  },
  "cells": [
    {
      "cell_type": "markdown",
      "metadata": {
        "id": "view-in-github",
        "colab_type": "text"
      },
      "source": [
        "<a href=\"https://colab.research.google.com/github/Nahuel-Ramirez/data-analytics/blob/main/estadistica4_1.ipynb\" target=\"_parent\"><img src=\"https://colab.research.google.com/assets/colab-badge.svg\" alt=\"Open In Colab\"/></a>"
      ]
    },
    {
      "cell_type": "markdown",
      "source": [
        "#Funciones de probabilidad / Distribucion\n",
        "\n",
        "Es una funcion que devuelve la probabilidad [0,1] que una variable aleatoria discreta sea exactamente igual a algun valor.\n",
        "\n",
        "Ejemplo:\n",
        "\n",
        "Espacio muestral de tirar una moneda = {Cara, Cruz}\n",
        "\n",
        "P(Cara) = 0.5\n",
        "\n",
        "P(Cruz) = 0.5\n"
      ],
      "metadata": {
        "id": "p-rHwJvGj2DD"
      }
    },
    {
      "cell_type": "markdown",
      "source": [
        "## ¿Que es una distribucion discreta?\n",
        "\n",
        "Existen **Modelos** de distribucion, que nos acercan a predecir como va a ser una distribucion. Por ej: Distribucion Normal, se repite el mismo modelo.\n",
        "\n",
        "Es una solucion que describe ciertos comportamientos.\n",
        "\n",
        "x ejemplo: en vez de crear nuestra propia funcion de distribucion para modelar cara/cruz (decisiones binarias, enfermo/no enfermo)\n",
        "Podemos utilizar un modelo matematico discreto que se adapte a la situacion.\n",
        "\n",
        "\n",
        "###Distribucion binomial\n",
        "\n",
        "Es dicotomica, si o no.\n",
        "\n",
        "Discreta, cuenta el numero de exitos en una secuencia de N ensayos **independientes entre si.**\n",
        "\n",
        "Con una probabilidad **p** (0.5 en la moneda) de ocurrencia de exito.\n",
        "\n"
      ],
      "metadata": {
        "id": "WFUbpoPxk-Dh"
      }
    },
    {
      "cell_type": "code",
      "source": [
        "import seaborn as sns\n",
        "from numpy import random\n",
        "\n",
        "rndB = random.binomial(n=150, p=.3, size=200) #p: probabilidad de exito\n",
        "#Teorema de limite central\n",
        "# A medida que tengo mas muestras (n) se empieza a comportar de una forma continua.\n",
        "\n",
        "# p = Probabilidad de ocurrencia. Es constante.\n",
        "# n y size = muestras y cantidad de veces que ejecute mi experimento.\n",
        "\n",
        "sns.distplot(rndB, kde=True, hist=True)\n"
      ],
      "metadata": {
        "colab": {
          "base_uri": "https://localhost:8080/",
          "height": 285
        },
        "id": "f7UAd8Psmgwx",
        "outputId": "6c1c8667-43e0-4f04-c1f8-57df84939d43"
      },
      "execution_count": 6,
      "outputs": [
        {
          "output_type": "execute_result",
          "data": {
            "text/plain": [
              "<matplotlib.axes._subplots.AxesSubplot at 0x7f4a69177220>"
            ]
          },
          "metadata": {},
          "execution_count": 6
        },
        {
          "output_type": "display_data",
          "data": {
            "text/plain": [
              "<Figure size 432x288 with 1 Axes>"
            ],
            "image/png": "[encoded data removed]"
          },
          "metadata": {
            "needs_background": "light"
          }
        }
      ]
    },
    {
      "cell_type": "markdown",
      "source": [
        "###Ejercicio:\n",
        "\n",
        "La ultima novela de un autor ha tenido un gran exito, hasta el punto de que el 80% de los lectores ya la han leido. Un grupo de 4 amigos son aficionados a la lectura:\n",
        "\n",
        "1. ¿Cual es la probabilidad de que en el grupo hayan leido la novela 2 personas?\n",
        "2. Como maximo 2.\n",
        "\n",
        "p = 0.8 (exito)\n",
        "\n",
        "n = 4 (muestra del experimento)\n",
        "\n",
        "**Formula de distribucion binomial.**\n",
        "\n",
        "![image.png](data:image/png;base64,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)\n"
      ],
      "metadata": {
        "id": "jjJyioG_kJNY"
      }
    },
    {
      "cell_type": "markdown",
      "source": [
        "k = 2\n",
        "\n",
        "Probabilidad de que hayan leido la novela dos personas:\n",
        "p(x=2) = (4,2)*(0.8)^2*(1-0.8)^(4-2)"
      ],
      "metadata": {
        "id": "eDaQEqKIeGF1"
      }
    },
    {
      "cell_type": "code",
      "source": [
        "from scipy.stats import binom\n",
        "\n",
        "resultado1 = binom.pmf(k=2,n=4,p=.8)\n",
        "print(\"La probabilidad de que 2 personas hayan leido la novela es: \", resultado1)"
      ],
      "metadata": {
        "colab": {
          "base_uri": "https://localhost:8080/"
        },
        "id": "21Yv1a7jmGL_",
        "outputId": "742f7316-e144-41f0-9a53-f3cb12584366"
      },
      "execution_count": 8,
      "outputs": [
        {
          "output_type": "stream",
          "name": "stdout",
          "text": [
            "La probabilidad de que 2 personas hayan leido la novela es:  0.1535999999999999\n"
          ]
        }
      ]
    },
    {
      "cell_type": "markdown",
      "source": [
        "2. Como maximo 2 personas:\n",
        "\n",
        "El como maximo te representa la sumatoria hasta donde queres llegar.\n",
        "\n",
        "O: representa la union de conjuntos -> +\n",
        "Y: representa la interseccion de conjuntos -> *\n",
        "\n",
        "P(X=0) + P(X=1) + P(X=2)"
      ],
      "metadata": {
        "id": "ApkU44-hnFj_"
      }
    },
    {
      "cell_type": "code",
      "source": [
        "resultado2 = 0\n",
        "\n",
        "for i in range(3):\n",
        "  resultado2 += binom.pmf(k=i, n=4, p=.8)\n",
        "print(\"Como maximo 2 personas: \", resultado2)\n",
        "\n",
        "#Es la probabilidad que la haya leido ninguna persona, una persona, o dos personas."
      ],
      "metadata": {
        "colab": {
          "base_uri": "https://localhost:8080/"
        },
        "id": "SerQx-Bxnb_1",
        "outputId": "dabaacd5-9c1f-4644-9f4f-a6417c9e4497"
      },
      "execution_count": 9,
      "outputs": [
        {
          "output_type": "stream",
          "name": "stdout",
          "text": [
            "Como maximo 2 personas:  0.18079999999999988\n"
          ]
        }
      ]
    }
  ]
}
{
  "nbformat": 4,
  "nbformat_minor": 0,
  "metadata": {
    "colab": {
      "provenance": [],
      "authorship_tag": "ABX9TyMgp09ph0+pVcyWTzY7yVca",
      "include_colab_link": true
    },
    "kernelspec": {
      "name": "python3",
      "display_name": "Python 3"
    },
    "language_info": {
      "name": "python"
    }
  },
  "cells": [
    {
      "cell_type": "markdown",
      "metadata": {
        "id": "view-in-github",
        "colab_type": "text"
      },
      "source": [
        "<a href=\"https://colab.research.google.com/github/Nahuel-Ramirez/data-analytics/blob/main/estadistica5.ipynb\" target=\"_parent\"><img src=\"https://colab.research.google.com/assets/colab-badge.svg\" alt=\"Open In Colab\"/></a>"
      ]
    },
    {
      "cell_type": "markdown",
      "source": [
        "##Distribucion normal.\n",
        "\n",
        "Distribucion de probabilidad de una variable continua que con mas frecuencia aparece en estadistica.\n",
        "\n",
        "- La estatura\n",
        "- El peso\n",
        "- Efecto de un farmaco\n",
        "- Caracteres sociologicos (consumos de productos en un grupo)\n",
        "- IQ\n",
        "- Ruido en telecomunicaciones (error de funcion de gauss)\n",
        "- Error (error de funcion de gauss)\n",
        "\n",
        "Todo se mueve dentro de la media y uno o dos sigmas. (En el grafico)"
      ],
      "metadata": {
        "id": "XvWZYEsgRStH"
      }
    },
    {
      "cell_type": "markdown",
      "source": [
        "##Regla 68-95-99.8\n",
        "\n",
        "En estadística, la regla 68-95-99.7, también conocida como regla empírica, es una abreviatura utilizada para **recordar el porcentaje de valores que se encuentran dentro de una banda alrededor de la media en una distribución normal con un ancho de dos, cuatro y seis veces la desviación típica**, respectivamente. Más exactamente, el 68.27%, el 95.45% y el 99.73% de los valores se encuentran dentro de bandas con semiancho de una, dos y tres veces la desviación típica respecto a la media.\n",
        "\n",
        "La \"regla 68-95-99.7\" se usa a menudo para obtener rápidamente una estimación de probabilidad aproximada de alguna muestra, conocida su desviación estándar, si se supone que la población es normal. También se usa como una prueba simple para determinar si un valor es atípico suponiendo que la población es normal, y como prueba de normalidad si la población es potencialmente no normal.\n",
        "\n",
        "Para relacionar una muestra con su desviación típica, primero se calcula su desviación a partir de sus errores o residuos, dependiendo de si se conoce la media de la población o solo se estima. El siguiente paso es regularizar porcentualmente los resultados (dividiéndolos por la desviación estándar de la población), si se conocen los parámetros de la población, o sometiéndolos a studentización (divididiéndolos por una estimación de la desviación estándar), si los parámetros son desconocidos y solo se estiman.\n",
        "\n",
        "Fuente: (https://es.wikipedia.org/wiki/Regla_68-95-99.7)\n",
        "\n",
        "\n",
        "u = media (mu)\n",
        "\n",
        "o = desviacion estandar (sigma)\n",
        "\n",
        "p(u-o < X < u+o) = 0.6827\n",
        "\n",
        "p(u-2o < X < u+2o) = 0.9545\n",
        "\n",
        "p(u-3o < X < u+3o) = 0.9973\n",
        "\n",
        "\n"
      ],
      "metadata": {
        "id": "eP-ZVZbCTOwP"
      }
    },
    {
      "cell_type": "code",
      "source": [
        "import math\n",
        "import numpy as np\n",
        "import pandas as pd\n",
        "import seaborn as sns\n",
        "import matplotlib.pyplot as plt\n"
      ],
      "metadata": {
        "id": "_5s8v-omtuwY"
      },
      "execution_count": 5,
      "outputs": []
    },
    {
      "cell_type": "code",
      "source": [
        "#Distribucion normal de alturas de una parte de la poblacion\n",
        "mu = 170 #media\n",
        "sigma = 8 #stdv\n",
        "n = 100000\n",
        "\n",
        "alturas = np.random.normal(mu,sigma,n)\n",
        "alturas"
      ],
      "metadata": {
        "colab": {
          "base_uri": "https://localhost:8080/"
        },
        "id": "Mc7cpOXWt4Yr",
        "outputId": "d54785d2-bed3-421b-ec5f-f789fe57385e"
      },
      "execution_count": 4,
      "outputs": [
        {
          "output_type": "execute_result",
          "data": {
            "text/plain": [
              "array([155.25886358, 157.85046489, 155.66696569, ..., 169.05469142,\n",
              "       172.80318698, 173.47729715])"
            ]
          },
          "metadata": {},
          "execution_count": 4
        }
      ]
    },
    {
      "cell_type": "code",
      "source": [
        "sns.displot(alturas, kde=True)\n",
        "\n",
        "# Dominio: los valores que puede tomar la variable (x) -inf +inf"
      ],
      "metadata": {
        "colab": {
          "base_uri": "https://localhost:8080/",
          "height": 386
        },
        "id": "kpktx4eKucbW",
        "outputId": "b49f436e-d5b5-4a32-9575-0f7b2daae7a0"
      },
      "execution_count": 5,
      "outputs": [
        {
          "output_type": "execute_result",
          "data": {
            "text/plain": [
              "<seaborn.axisgrid.FacetGrid at 0x7fc27ceea2e0>"
            ]
          },
          "metadata": {},
          "execution_count": 5
        },
        {
          "output_type": "display_data",
          "data": {
            "text/plain": [
              "<Figure size 360x360 with 1 Axes>"
            ],
            "image/png": "[encoded data removed]"
          },
          "metadata": {
            "needs_background": "light"
          }
        }
      ]
    },
    {
      "cell_type": "markdown",
      "source": [
        "##Distribucion normal estandar:\n",
        "\n",
        "Llevar las medidas de la media a 0 y la altura (sigma) a 1. -> Llevar mi distribucion al centro y que el desvio estandar sea un 1.\n",
        "\n",
        "\n"
      ],
      "metadata": {
        "id": "QlAH9mNoTO1t"
      }
    },
    {
      "cell_type": "code",
      "source": [
        "#Grupo 1\n",
        "mu1 = 170\n",
        "sigma1 = 3\n",
        "#Grupo2\n",
        "mu2 = 180\n",
        "sigma2 = 8\n",
        "\n",
        "alturas1 = np.random.normal(mu1, sigma1, 100000)\n",
        "alturas2 = np.random.normal(mu2, sigma2, 100000)"
      ],
      "metadata": {
        "id": "xL09pGGjv01i"
      },
      "execution_count": 6,
      "outputs": []
    },
    {
      "cell_type": "markdown",
      "source": [
        "- Crear una funcion que devuelva el valor estandarizado de cada elemento de las alturas."
      ],
      "metadata": {
        "id": "ZxzD9X40u2-2"
      }
    },
    {
      "cell_type": "code",
      "source": [
        "def standElement(arr,mu,sigma):\n",
        "  arrSTD = []\n",
        "  for i in range(len(arr)):\n",
        "    std = (arr[i] - mu) /sigma\n",
        "    arrSTD.append(std)\n",
        "  return arrSTD"
      ],
      "metadata": {
        "id": "OAwR6AgXu9LZ"
      },
      "execution_count": 23,
      "outputs": []
    },
    {
      "cell_type": "code",
      "source": [
        "alturas1STD = standElement(alturas1,mu1,sigma1)\n",
        "alturas2STD = standElement(alturas2, mu2, sigma2)\n",
        "sns.distplot(x=alturas1STD, color=\"r\")\n",
        "sns.distplot(x=alturas2STD, color=\"b\")\n"
      ],
      "metadata": {
        "colab": {
          "base_uri": "https://localhost:8080/",
          "height": 372
        },
        "id": "4GapLIkOvaaS",
        "outputId": "b1730323-dd6c-4d9c-c0ff-fc99bf198581"
      },
      "execution_count": 27,
      "outputs": [
        {
          "output_type": "stream",
          "name": "stderr",
          "text": [
            "/usr/local/lib/python3.8/dist-packages/seaborn/distributions.py:2619: FutureWarning: `distplot` is a deprecated function and will be removed in a future version. Please adapt your code to use either `displot` (a figure-level function with similar flexibility) or `histplot` (an axes-level function for histograms).\n",
            "  warnings.warn(msg, FutureWarning)\n",
            "/usr/local/lib/python3.8/dist-packages/seaborn/distributions.py:2619: FutureWarning: `distplot` is a deprecated function and will be removed in a future version. Please adapt your code to use either `displot` (a figure-level function with similar flexibility) or `histplot` (an axes-level function for histograms).\n",
            "  warnings.warn(msg, FutureWarning)\n"
          ]
        },
        {
          "output_type": "execute_result",
          "data": {
            "text/plain": [
              "<matplotlib.axes._subplots.AxesSubplot at 0x7fc2622158b0>"
            ]
          },
          "metadata": {},
          "execution_count": 27
        },
        {
          "output_type": "display_data",
          "data": {
            "text/plain": [
              "<Figure size 432x288 with 1 Axes>"
            ],
            "image/png": "[encoded data removed]"
          },
          "metadata": {
            "needs_background": "light"
          }
        }
      ]
    },
    {
      "cell_type": "code",
      "source": [
        "max1 = alturas1.max()\n",
        "max2 = alturas2.max()\n",
        "min1 = alturas1.min()\n",
        "min2 = alturas2.min()\n",
        "\n",
        "print(\"max1 :\", max1, \"max2 :\", max2)\n",
        "print(\"min1 :\", min1, \"min2 :\", min2)\n",
        "\n",
        "df = pd.DataFrame({\n",
        "    \"alturas1\": alturas1,\n",
        "    \"alturas2\": alturas2\n",
        "})\n"
      ],
      "metadata": {
        "colab": {
          "base_uri": "https://localhost:8080/"
        },
        "id": "EQX2cg0KxCrz",
        "outputId": "72cb633f-ce9b-4217-a328-f81c68245e03"
      },
      "execution_count": 7,
      "outputs": [
        {
          "output_type": "stream",
          "name": "stdout",
          "text": [
            "max1 : 183.69767373428186 max2 : 219.52268534904354\n",
            "min1 : 156.64571184109755 min2 : 145.27181571589344\n"
          ]
        }
      ]
    },
    {
      "cell_type": "code",
      "source": [
        "sns.distplot(x=df[\"alturas1\"], color=\"r\")\n",
        "sns.distplot(x=df[\"alturas2\"], color =\"g\")\n",
        "plt.show()\n",
        "\n",
        "#Lo que consigo estandarizando es llevar estas curvas a la misma escala, y asi poder compararlas."
      ],
      "metadata": {
        "colab": {
          "base_uri": "https://localhost:8080/",
          "height": 358
        },
        "id": "Y13pzdLgxlsv",
        "outputId": "9095a5cd-7c8b-4815-ab79-bba062939f96"
      },
      "execution_count": 8,
      "outputs": [
        {
          "output_type": "stream",
          "name": "stderr",
          "text": [
            "/usr/local/lib/python3.8/dist-packages/seaborn/distributions.py:2619: FutureWarning: `distplot` is a deprecated function and will be removed in a future version. Please adapt your code to use either `displot` (a figure-level function with similar flexibility) or `histplot` (an axes-level function for histograms).\n",
            "  warnings.warn(msg, FutureWarning)\n",
            "/usr/local/lib/python3.8/dist-packages/seaborn/distributions.py:2619: FutureWarning: `distplot` is a deprecated function and will be removed in a future version. Please adapt your code to use either `displot` (a figure-level function with similar flexibility) or `histplot` (an axes-level function for histograms).\n",
            "  warnings.warn(msg, FutureWarning)\n"
          ]
        },
        {
          "output_type": "display_data",
          "data": {
            "text/plain": [
              "<Figure size 432x288 with 1 Axes>"
            ],
            "image/png": "[encoded data removed]"
          },
          "metadata": {
            "needs_background": "light"
          }
        }
      ]
    },
    {
      "cell_type": "markdown",
      "source": [
        "## Formula de estandarizacion (puntuacion z)\n",
        "\n",
        "Esto sirve para permitirnos comparar cosas distintas y llevar las curvas a la misma escala. Centrado en el origen, con un desvio estandar de 1\n",
        "\n",
        "- Al valor que me interesa estandarizar (x) le voy a restar la media (u) y todo eso lo voy a dividir por sigma (o)\n",
        "\n",
        "z(x) = (x - u) / o\n",
        "\n",
        "z156 = (157 - 170) / 3 -> -4.3333\n",
        "\n",
        "z190 = (190 - 180) / 8 -> 1.25\n",
        "\n",
        "\n"
      ],
      "metadata": {
        "id": "ryOXE8mdy-W4"
      }
    },
    {
      "cell_type": "code",
      "source": [
        "sns.distplot(x=df[\"alturas1\"], color=\"r\")\n",
        "plt.show()\n"
      ],
      "metadata": {
        "colab": {
          "base_uri": "https://localhost:8080/",
          "height": 324
        },
        "id": "4nSa7Lh4qMQk",
        "outputId": "1c1df258-633e-4a70-8978-4a69db9ab253"
      },
      "execution_count": 10,
      "outputs": [
        {
          "output_type": "stream",
          "name": "stderr",
          "text": [
            "/usr/local/lib/python3.8/dist-packages/seaborn/distributions.py:2619: FutureWarning: `distplot` is a deprecated function and will be removed in a future version. Please adapt your code to use either `displot` (a figure-level function with similar flexibility) or `histplot` (an axes-level function for histograms).\n",
            "  warnings.warn(msg, FutureWarning)\n"
          ]
        },
        {
          "output_type": "display_data",
          "data": {
            "text/plain": [
              "<Figure size 432x288 with 1 Axes>"
            ],
            "image/png": "[encoded data removed]"
          },
          "metadata": {
            "needs_background": "light"
          }
        }
      ]
    },
    {
      "cell_type": "markdown",
      "source": [
        "##Calculo de probabilidades\n",
        "\n",
        "a- ¿Cual es la probabilidad que agarrando una persona cualquiera tenga una altura menor a 170?\n",
        "\n",
        "b. ¿Cual es la probabilidad de que tenga una altura menor a 160?\n",
        "\n",
        "a)\n",
        "\n",
        "P(X<170) = 0.5\n",
        "\n",
        "Z170 = (170 - 170) / 3 = 0\n",
        "\n",
        "b)\n",
        "\n",
        "Z160 = (160 - 170) /3 = -3.3333\n",
        "\n"
      ],
      "metadata": {
        "id": "tNEy1k9fqbt7"
      }
    },
    {
      "cell_type": "code",
      "source": [
        "import scipy.stats as st"
      ],
      "metadata": {
        "id": "TVJNL-EJruhV"
      },
      "execution_count": 1,
      "outputs": []
    },
    {
      "cell_type": "code",
      "source": [
        "st.norm.cdf(-3.33333)\n",
        "\n",
        "#La probabilidad de encontrar una persona menor a 160 es 0.0004290\n",
        "#Es bajisima, el desvio estandar es mas de 3"
      ],
      "metadata": {
        "colab": {
          "base_uri": "https://localhost:8080/"
        },
        "id": "j5v11Q9tsH6k",
        "outputId": "2b3d2f25-78ff-4050-de68-9a1320a71f37"
      },
      "execution_count": 15,
      "outputs": [
        {
          "output_type": "execute_result",
          "data": {
            "text/plain": [
              "0.00042906547415538516"
            ]
          },
          "metadata": {},
          "execution_count": 15
        }
      ]
    },
    {
      "cell_type": "code",
      "source": [
        "#Distribucion estandarizada con dos lineas verticales.\n",
        "mu = 0\n",
        "std = 1\n",
        "x = np.linspace(mu-3*std, mu + 3*std, 100)\n",
        "x\n",
        "sns.lineplot(x=x,y=st.norm.pdf(x,mu,std))\n",
        "plt.axvline(x=-2, color=\"r\")\n",
        "plt.axvline(x=2, color=\"r\")"
      ],
      "metadata": {
        "colab": {
          "base_uri": "https://localhost:8080/",
          "height": 282
        },
        "id": "lVWVntIGtI-v",
        "outputId": "ab9cccf8-86a5-4801-e7cd-eabcbdf8b226"
      },
      "execution_count": 20,
      "outputs": [
        {
          "output_type": "execute_result",
          "data": {
            "text/plain": [
              "<matplotlib.lines.Line2D at 0x7fc264402790>"
            ]
          },
          "metadata": {},
          "execution_count": 20
        },
        {
          "output_type": "display_data",
          "data": {
            "text/plain": [
              "<Figure size 432x288 with 1 Axes>"
            ],
            "image/png": "[encoded data removed]"
          },
          "metadata": {
            "needs_background": "light"
          }
        }
      ]
    },
    {
      "cell_type": "markdown",
      "source": [
        "## Distribucion normal aplicada al peso de estudiantes\n",
        "\n",
        "La media de los pesos de 500 estudiantes de un colegio es de 70kg; y la desviacion tipica es de 3 kg.\n",
        "\n",
        "Suponiendo que los pesos se distribuyen normalmente, hallar cuantos estudiantes pesan:\n",
        "\n",
        "a. Menos de 64\n",
        "\n",
        "b. Mas de 90\n",
        "\n",
        "c. 64kg\n",
        "\n",
        "d. Mas de 64"
      ],
      "metadata": {
        "id": "pspHpLeFuK_R"
      }
    },
    {
      "cell_type": "code",
      "source": [
        "#A\n",
        "#Primero estandarizamos los valores para poder compararlos y para que python lo entienda\n",
        "\n",
        "z64 = (64-70)/3\n",
        "z64\n",
        "\n",
        "#Luego sacamos la probabilidad de que los estudiantes pesen menos de 64kg con python.\n",
        "\n",
        "pmenos64 = st.norm.cdf(z64)\n",
        "pmenos64 # 0.022750131948179195 *100 = 2.2750..%\n",
        "\n",
        "#Tiene sentido porque si nos fijamos en el grafico de arriba, el area de la campana antes de llegar al -2 es chica, por ende la probabilidad va a ser baja."
      ],
      "metadata": {
        "colab": {
          "base_uri": "https://localhost:8080/"
        },
        "id": "GVrDYp1YuJTi",
        "outputId": "05364cfd-5f30-4d57-9d65-91ab56542f38"
      },
      "execution_count": 9,
      "outputs": [
        {
          "output_type": "execute_result",
          "data": {
            "text/plain": [
              "0.022750131948179195"
            ]
          },
          "metadata": {},
          "execution_count": 9
        }
      ]
    },
    {
      "cell_type": "code",
      "source": [
        "# B\n",
        "#En el caso anterior fue facil porque como el grafico se lee de izquierda a derecha podemos sacar facilmente los valores menores a X.\n",
        "#Cuando nos pide sacar cuantos estudiantes pesan MAS de x valor, primero tenemos que estandarizar X.\n",
        "\n",
        "z90 = (90-70)/3\n",
        "z90 #6.6666, nos da un valor alto\n",
        "pz90 = st.norm.cdf(z90)\n",
        "pz90 # 0.999999999986916 | Nos da una probabilidad altisima, y esta bien, ya que leyendo el grafico de izq a der, la probabilidad de que estudiantes pesen MENOS de 90kg es muy alta.\n",
        "\n",
        "#Para saber cuales pesan MAS de 90kg, sabemos que los valores de la probabilidad oscilan entre 0 y 1, entonces sabiendo que el 100% probable es 1, le tenemos que restar pz90\n",
        "pmas90 = 1-pz90\n",
        "pmas90 # 1.308397834520747e-11 | La probabilidad es bajisima. Tiene sentido ya que el area despues de los 90kg es muy chica."
      ],
      "metadata": {
        "colab": {
          "base_uri": "https://localhost:8080/"
        },
        "id": "iAEGRcevx3pK",
        "outputId": "f66d0d81-a9b1-40ae-8ca9-3e4de0b7f359"
      },
      "execution_count": 10,
      "outputs": [
        {
          "output_type": "execute_result",
          "data": {
            "text/plain": [
              "1.308397834520747e-11"
            ]
          },
          "metadata": {},
          "execution_count": 10
        }
      ]
    },
    {
      "cell_type": "markdown",
      "source": [
        "##Intervalos de confianza\n",
        "\n",
        "Antes de hablar de esto debemos entender la diferencia entre parametro poblacional y parametro muestral.\n",
        "\n",
        "el parametro poblacion, es el conjunto de todos los elementos de los cuales queremos hacer un analisis, por ejemplo, si queres hacer un analisis de los pesos de los argentinos, la poblacion seria TODOS los argentinos.\n",
        "\n",
        "En cambio, como no podemos tener TODOS los datos de TODOS los argentinos, tomamos una muestra e inferimos en ella para tener una aproximacion del comportamiento de esa poblacion. Pero no podemos decir que la media de las X personas argentinas que separe en mi muestra es igual a la media de toda la poblacion, por eso se utilizan estos intervalos de confianza.\n",
        "\n",
        "Ejemplo:\n",
        "\n",
        "De una poblacion de media de 173cm y desviacion de 3 puedo decir lo siguiente:\n",
        "\n",
        "**Con seguridad en un 50%: Las alturas de las personas estan entre 167 y 170.**\n",
        "\n",
        "**Con seguridad en un 60%: Las alturas de las personas estan entre 160 y 173.**\n",
        "\n",
        "**Con seguridad en un 90%: Las alturas de las personas estan entre 155 y 195.**\n",
        "\n",
        "**Con seguridad en un 100%: Las alturas de las personas estan entre 100 y 200.**\n",
        "\n",
        "### Valores cotidianos: 90%, 95%, 99%\n",
        "\n",
        "Mu --> media poblacional\n",
        "\n",
        "x --> media muestral\n",
        "\n",
        "Intervalo de confianza = X +- Error\n",
        "\n",
        "A partir de la media de mi muestra, quiero inferir la media de la poblacion.\n",
        "\n",
        "\n",
        "\n",
        "\n",
        "\n"
      ],
      "metadata": {
        "id": "AomFmWUO8Yk7"
      }
    },
    {
      "cell_type": "code",
      "source": [
        "#Intervalo de confianza 90%\n",
        "z09 = st.norm.ppf(1-(1-0.9)/2)\n",
        "\n",
        "\n",
        "#Intervalo de confianza de 95%\n",
        "z95 = st.norm.ppf(1-(1-0.95)/2)\n",
        "z95 # = 1.96"
      ],
      "metadata": {
        "colab": {
          "base_uri": "https://localhost:8080/"
        },
        "id": "AZUWJPW4OZao",
        "outputId": "be5b849c-6963-4607-f3f8-aa6c86f4c455"
      },
      "execution_count": 3,
      "outputs": [
        {
          "output_type": "execute_result",
          "data": {
            "text/plain": [
              "1.959963984540054"
            ]
          },
          "metadata": {},
          "execution_count": 3
        }
      ]
    },
    {
      "cell_type": "markdown",
      "source": [
        "##Para que sirven los intervalos de confianza\n",
        "\n",
        "###A partir de esta muestra, determino a traves de un intervalo de confianza los valores para toda la poblacion.\n",
        "\n",
        "El tiempo diario que los adultos de una determinada ciudad dedican a actividades deportivas, expresado en minutos, se puede aproximar por una variable aleatoria de distribucion normal de desviacion tipica de 20 minutos.\n",
        "\n",
        "a) Para una muestra de 250 habitantes se obtuvo un tiempo medio de dedicacion a actividades deportivas de 90 minutos diarios. Calcule un intervalo de confianza de 90% para la media."
      ],
      "metadata": {
        "id": "Lm6MDPEbO5UN"
      }
    },
    {
      "cell_type": "code",
      "source": [
        "z90 = st.norm.ppf(1-(1-0.9)/2)\n",
        "# error = z * desvio estandar / sqrt(N)\n",
        "error = (z90 * 20) / math.sqrt(250)\n",
        "intervaloConfianza90 = [90-error , 90+error]\n",
        "intervaloConfianza90 # Esto significa que estoy 90% seguro que mi POBLACION hace entre 87.91 min de ejercicio y 92.08 minutos."
      ],
      "metadata": {
        "colab": {
          "base_uri": "https://localhost:8080/"
        },
        "id": "j-cMzoD_Pdx5",
        "outputId": "fd1d16b8-5dfe-48d2-e903-60a3cdc039a6"
      },
      "execution_count": 8,
      "outputs": [
        {
          "output_type": "execute_result",
          "data": {
            "text/plain": [
              "[87.91940644849777, 92.08059355150223]"
            ]
          },
          "metadata": {},
          "execution_count": 8
        }
      ]
    }
  ]
}